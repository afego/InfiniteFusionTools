{
 "cells": [
  {
   "cell_type": "markdown",
   "metadata": {},
   "source": [
    "#### Stats, Head and Body\n",
    "The base stats of a fused Pokémon are determined by the base stats of its head and body Pokémon. The formula is a weighted average with a bias towards the **body Pokémon for physical stats** (Atk, Def, Spd) and a bias towards the **head Pokémon for special stats (HP, Sp.Atk, Sp.Def)**.\n",
    "\n",
    "- ATK, DEF, SPD\n",
    "\n",
    "fusionStat = 2 * bodyStat / 3 + headStat / 3\n",
    "\n",
    "- HP, SP.DEF, SP.ATK\n",
    "\n",
    "fusionStat = 2 * headStat / 3 + bodyStat/3\n",
    "\n",
    "\n",
    "#### Name, Nature, and Moves\n",
    "You will be able to choose a name, nature, and set of moves based on what either Pokémon has at the time. The Move Reminder found on the top floor of Pokémon centers can teach moves from either original Pokémon.\n",
    "\n",
    "Nature can be changed in the far southwest of Cinnabar Island.\n",
    "\n",
    "#### Ability\n",
    "A fusion has access to any of the abilities of the Fused pokemon. When fusing, You are only able to choose between the two abilities that the Parent Pokemon had at the time of fusion. Ex: fusing Politoed with damp, and Glaceon with snow cloak will only show those two abilities, regardless of fusion order.\n",
    "\n",
    "#### EVs and IVs\n",
    "Fusion keeps the EVs of the body and discards the EVs of the head.\n",
    "\n",
    "If using DNA splicers, an average of both Pokémon's IVs is used. If using super splicers, the higher IV in each stat is used.\n",
    "\n",
    "#### Typing\n",
    "\n",
    "The fused Pokémon will have its head's primary type and its body's secondary type. If the body's Pokémon doesn't have a secondary type, its primary type will be used instead.\n",
    "\n",
    "If the head is already providing the element the body wants to provide, The body will provide its primary type instead. A Grimer/Oddish for example is Poison/Grass. Oddish normally provides Poison as a body, but Grimer already provides Poison; so to avoid redundancy, Oddish instead provides its primary type, Grass."
   ]
  },
  {
   "cell_type": "code",
   "execution_count": 1,
   "metadata": {},
   "outputs": [],
   "source": [
    "import numpy as np\n",
    "import pandas as pd\n",
    "\n",
    "pokedex = pd.read_csv(\"data/CompleteInfiniteFusionDex.csv\")\n",
    "\n",
    "type_chart = pd.read_csv(\"data/typingchart.csv\")\n",
    "\n",
    "type_chart = type_chart.set_index(\"Attacking\")\n",
    "type_chart.columns = type_chart.columns.str.lower()\n",
    "type_chart.index = type_chart.index.str.lower()"
   ]
  },
  {
   "cell_type": "code",
   "execution_count": 2,
   "metadata": {},
   "outputs": [],
   "source": [
    "def pkm_query(pokemon:str):\n",
    "    return pokedex.loc[pokedex.Species == pokemon.lower()]"
   ]
  },
  {
   "cell_type": "code",
   "execution_count": 3,
   "metadata": {},
   "outputs": [],
   "source": [
    "def weighted_avg(stat1,stat2):\n",
    "    return int((2*stat1+stat2)/3)"
   ]
  },
  {
   "cell_type": "code",
   "execution_count": 4,
   "metadata": {},
   "outputs": [],
   "source": [
    "def calc_fusion_stats(head, body):\n",
    "    fusion_head = pkm_query(head)\n",
    "    fusion_body = pkm_query(body)\n",
    "    fusion_stats = {}\n",
    "    # Pandas doc recommends using to_numpy() instead of values\n",
    "    fusion_stats[\"hp\"] = weighted_avg(fusion_head[\"hp\"].values[0],fusion_body[\"hp\"].values[0])\n",
    "    fusion_stats[\"atk\"] = weighted_avg(fusion_body[\"attack\"].values[0],fusion_head[\"attack\"].values[0])\n",
    "    fusion_stats[\"def\"] = weighted_avg(fusion_body[\"defense\"].values[0],fusion_head[\"defense\"].values[0])\n",
    "    fusion_stats[\"spatk\"] = weighted_avg(fusion_head[\"sp_attack\"].values[0],fusion_body[\"sp_attack\"].values[0])\n",
    "    fusion_stats[\"spdef\"] = weighted_avg(fusion_head[\"sp_defense\"].values[0],fusion_body[\"sp_defense\"].values[0])\n",
    "    fusion_stats[\"spe\"] = weighted_avg(fusion_body[\"speed\"].values[0],fusion_head[\"speed\"].values[0])\n",
    "    fusion_stats[\"total\"] = sum(fusion_stats.values())\n",
    "    return fusion_stats"
   ]
  },
  {
   "cell_type": "code",
   "execution_count": 5,
   "metadata": {},
   "outputs": [],
   "source": [
    "def calc_fusion_typing(head,body):\n",
    "    fusion_head = pkm_query(head)\n",
    "    fusion_body = pkm_query(body)\n",
    "    fusion_types = {}\n",
    "    fusion_types[\"Type1\"] = fusion_head[\"Type1\"].values[0]\n",
    "    if fusion_body[\"Type2\"].values[0] == fusion_head[\"Type1\"].values[0]:\n",
    "        fusion_types[\"Type2\"] = fusion_body[\"Type1\"].values[0]\n",
    "    else:\n",
    "        fusion_types[\"Type2\"] = fusion_body[\"Type2\"].values[0]\n",
    "    return fusion_types"
   ]
  },
  {
   "cell_type": "code",
   "execution_count": 6,
   "metadata": {},
   "outputs": [],
   "source": [
    "def calc_fusion_weakness(fusion_typing:dict):\n",
    "    if fusion_typing['Type1'] == fusion_typing['Type2']:\n",
    "        pkm_weak = type_chart[fusion_typing['Type1']]\n",
    "    else:\n",
    "        pkm_weak = type_chart[fusion_typing['Type1']]*type_chart[fusion_typing['Type2']]\n",
    "\n",
    "    fusion_weak = {}\n",
    "    for value in pkm_weak:\n",
    "        if value not in fusion_weak:\n",
    "            fusion_weak[str(value)] = pkm_weak[pkm_weak == value].index.tolist()\n",
    "\n",
    "    return fusion_weak"
   ]
  },
  {
   "cell_type": "code",
   "execution_count": 27,
   "metadata": {},
   "outputs": [],
   "source": [
    "from dataclasses import dataclass\n",
    "@dataclass\n",
    "class Fusion:\n",
    "    head:str\n",
    "    body:str\n",
    "    types:dict\n",
    "    stats:dict\n",
    "    \n",
    "    def __init__(self,head,body):\n",
    "        self.head = head\n",
    "        self.body = body\n",
    "        \n",
    "        self.types = calc_fusion_typing(head,body)\n",
    "        self.stats = calc_fusion_stats(head,body)\n",
    "        \n",
    "    def print_weakness(self):\n",
    "        weak = calc_fusion_weakness(self.types)\n",
    "        keys = list(weak.keys())\n",
    "        keys.sort(reverse=True)\n",
    "        for key in keys:\n",
    "            print(f\"{key} ({len(weak[key])}):{weak[key]}\")\n",
    "    \n",
    "    def possible_abilities(self):\n",
    "        head = pkm_query(self.head)\n",
    "        body = pkm_query(self.body)\n",
    "\n",
    "        abilites = {}\n",
    "        abilites['regular'] = [head.ability_1.values[0], head.ability_2.values[0], body.ability_1.values[0], body.ability_2.values[0]]\n",
    "        abilites['hidden'] = [head.ability_hidden.values[0], body.ability_hidden.values[0]]\n",
    "        for key in abilites.keys():\n",
    "            abilites[key] = [x for x in abilites[key] if x != 'none']\n",
    "        return abilites"
   ]
  },
  {
   "cell_type": "code",
   "execution_count": 28,
   "metadata": {},
   "outputs": [],
   "source": [
    "def calc_fusion(pokemon1:str, pokemon2:str):\n",
    "    return Fusion(pokemon1,pokemon2)"
   ]
  },
  {
   "cell_type": "markdown",
   "metadata": {},
   "source": [
    "## Fusion Calculator"
   ]
  },
  {
   "cell_type": "code",
   "execution_count": 29,
   "metadata": {},
   "outputs": [],
   "source": [
    "def fusion_calculator_simple(pokemon1:str,pokemon2:str):\n",
    "    fusions = [calc_fusion(pokemon1, pokemon2),calc_fusion(pokemon2, pokemon1)]\n",
    "    print(\"Typing and Stats\")\n",
    "    for fusion in fusions:\n",
    "        print(f\"Head: {fusion.head} | Body: {fusion.body}\")\n",
    "        print(f\"{fusion.types}\")\n",
    "        print(f\"{fusion.stats}\")\n",
    "        print(\"\")\n",
    "    print(\"Weakness\")\n",
    "    if set(fusions[0].types.values()) == set(fusions[1].types.values()):\n",
    "        print(\"Fusions share the same typing\")\n",
    "        fusions[0].print_weakness()\n",
    "    else:\n",
    "        for fusion in fusions:\n",
    "            print(f\"Head: {fusion.head} | Body: {fusion.body}\")\n",
    "            fusion.print_weakness()\n",
    "        "
   ]
  },
  {
   "cell_type": "code",
   "execution_count": 36,
   "metadata": {},
   "outputs": [],
   "source": [
    "def fusion_calculator(pokemon1:str,pokemon2:str):\n",
    "    fusions = [calc_fusion(pokemon1, pokemon2),calc_fusion(pokemon2, pokemon1)]\n",
    "    stats_diff = {}\n",
    "    for key in fusions[0].stats.keys():\n",
    "        stats_diff[key] = fusions[0].stats[key] - fusions[1].stats[key]\n",
    "        stats_diff[key] = str(stats_diff[key]) if stats_diff[key] < 0 else f\"+{str(stats_diff[key])}\"\n",
    "\n",
    "    stats_print = {}\n",
    "    for key in fusions[0].stats.keys():\n",
    "            stats_print[key] = [fusions[0].stats[key],stats_diff[key],fusions[1].stats[key]]\n",
    "    \n",
    "    print(\"Typing and Stats\")\n",
    "    print(f\"{'-'*20}\")\n",
    "    print(f\"Head: {fusions[0].head} | Body: {fusions[0].body} | Typing: {list(fusions[0].types.values())}\")\n",
    "    sio = ['hp','atk','def','spatk','spdef','spe','total'] #stats in order\n",
    "    aw = 7 #alignment width\n",
    "    print(f\"{sio[0]:^7}{sio[1]:^7}{sio[2]:^7}{sio[3]:^7}{sio[4]:^7}{sio[5]:^7}{sio[6]:^7}\") #^ central alignment, < left, > right\n",
    "    for i in range(3):\n",
    "        print(f\"{stats_print[sio[0]][i]:^7}{stats_print[sio[1]][i]:^7}{stats_print[sio[2]][i]:^7}{stats_print[sio[3]][i]:^7}{stats_print[sio[4]][i]:^7}{stats_print[sio[5]][i]:^7}{stats_print[sio[6]][i]:^7}\")\n",
    "    print(f\"Head: {fusions[1].head} | Body: {fusions[1].body} | Typing: {list(fusions[1].types.values())}\")\n",
    "    print(\"\")\n",
    "    print(f\"{'='*80}\\nWeakness\\n{'-'*20}\")\n",
    "    if set(fusions[1].types.values()) == set(fusions[0].types.values()):\n",
    "        print(\"Fusions share the same typing\")\n",
    "        fusions[1].print_weakness()\n",
    "    else:\n",
    "        for fusion in fusions:\n",
    "            print(f\"Head: {fusion.head} | Body: {fusion.body} | Typing: {list(fusion.types.values())}\")\n",
    "            fusion.print_weakness()\n",
    "            print(f\"{'-'*20}\")\n",
    "    print(\"\")\n",
    "    print(f\"{'='*80}\\nAbilities\\n{'-'*20}\")\n",
    "    fusion_abilities = fusions[0].possible_abilities()\n",
    "    for key in fusion_abilities.keys():\n",
    "        print(f\"{key}: {fusion_abilities[key]}\")\n",
    "    "
   ]
  },
  {
   "cell_type": "code",
   "execution_count": 38,
   "metadata": {},
   "outputs": [
    {
     "name": "stdout",
     "output_type": "stream",
     "text": [
      "Typing and Stats\n",
      "--------------------\n",
      "Head: infernape | Body: leafeon | Typing: ['fire', 'grass']\n",
      "  hp     atk    def   spatk  spdef   spe   total \n",
      "  72     108    110    89     69     99     547  \n",
      "  +4     +2     +20    +15    +2     -4     +39  \n",
      "  68     106    90     74     67     103    508  \n",
      "Head: leafeon | Body: infernape | Typing: ['grass', 'fighting']\n",
      "\n",
      "================================================================================\n",
      "Weakness\n",
      "--------------------\n",
      "Head: infernape | Body: leafeon | Typing: ['fire', 'grass']\n",
      "2.0 (3):['poison', 'flying', 'rock']\n",
      "1.0 (11):['normal', 'fire', 'water', 'ice', 'fighting', 'ground', 'psychic', 'bug', 'ghost', 'dragon', 'dark']\n",
      "0.5 (3):['electric', 'steel', 'fairy']\n",
      "0.25 (1):['grass']\n",
      "--------------------\n",
      "Head: leafeon | Body: infernape | Typing: ['grass', 'fighting']\n",
      "4.0 (1):['flying']\n",
      "2.0 (5):['fire', 'ice', 'poison', 'psychic', 'fairy']\n",
      "1.0 (6):['normal', 'fighting', 'bug', 'ghost', 'dragon', 'steel']\n",
      "0.5 (6):['water', 'electric', 'grass', 'ground', 'rock', 'dark']\n",
      "--------------------\n",
      "\n",
      "================================================================================\n",
      "Abilities\n",
      "--------------------\n",
      "regular: ['blaze', 'leaf guard']\n",
      "hidden: ['iron fist', 'chlorophyll']\n"
     ]
    }
   ],
   "source": [
    "fusion_calculator(\"infernape\",\"leafeon\")"
   ]
  },
  {
   "cell_type": "code",
   "execution_count": 40,
   "metadata": {},
   "outputs": [
    {
     "name": "stdout",
     "output_type": "stream",
     "text": [
      "Typing and Stats\n",
      "--------------------\n",
      "Head: venusaur | Body: typhlosion | Typing: ['grass', 'fire']\n",
      "  hp     atk    def   spatk  spdef   spe   total \n",
      "  79     83     79     103    95     93     532  \n",
      "  +1     +1     -2     -3     +5     +7     +9   \n",
      "  78     82     81     106    90     86     523  \n",
      "Head: typhlosion | Body: venusaur | Typing: ['fire', 'poison']\n",
      "\n",
      "================================================================================\n",
      "Weakness\n",
      "--------------------\n",
      "Head: venusaur | Body: typhlosion | Typing: ['grass', 'fire']\n",
      "2.0 (3):['poison', 'flying', 'rock']\n",
      "1.0 (11):['normal', 'fire', 'water', 'ice', 'fighting', 'ground', 'psychic', 'bug', 'ghost', 'dragon', 'dark']\n",
      "0.5 (3):['electric', 'steel', 'fairy']\n",
      "0.25 (1):['grass']\n",
      "--------------------\n",
      "Head: typhlosion | Body: venusaur | Typing: ['fire', 'poison']\n",
      "4.0 (1):['ground']\n",
      "2.0 (3):['water', 'psychic', 'rock']\n",
      "1.0 (6):['normal', 'electric', 'flying', 'ghost', 'dragon', 'dark']\n",
      "0.5 (5):['fire', 'ice', 'fighting', 'poison', 'steel']\n",
      "0.25 (3):['grass', 'bug', 'fairy']\n",
      "--------------------\n",
      "\n",
      "================================================================================\n",
      "Abilities\n",
      "--------------------\n",
      "regular: ['overgrow', 'blaze']\n",
      "hidden: ['chlorophyll', 'flash fire']\n"
     ]
    }
   ],
   "source": [
    "fusion_calculator(\"venusaur\",\"typhlosion\")"
   ]
  }
 ],
 "metadata": {
  "kernelspec": {
   "display_name": "Python 3",
   "language": "python",
   "name": "python3"
  },
  "language_info": {
   "codemirror_mode": {
    "name": "ipython",
    "version": 3
   },
   "file_extension": ".py",
   "mimetype": "text/x-python",
   "name": "python",
   "nbconvert_exporter": "python",
   "pygments_lexer": "ipython3",
   "version": "3.11.9"
  }
 },
 "nbformat": 4,
 "nbformat_minor": 2
}
