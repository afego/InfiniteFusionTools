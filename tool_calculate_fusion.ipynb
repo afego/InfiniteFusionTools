{
 "cells": [
  {
   "cell_type": "markdown",
   "metadata": {},
   "source": [
    "#### Stats, Head and Body\n",
    "The base stats of a fused Pokémon are determined by the base stats of its head and body Pokémon. The formula is a weighted average with a bias towards the **body Pokémon for physical stats** (Atk, Def, Spd) and a bias towards the **head Pokémon for special stats (HP, Sp.Atk, Sp.Def)**.\n",
    "\n",
    "- ATK, DEF, SPD\n",
    "\n",
    "fusionStat = 2 * bodyStat / 3 + headStat / 3\n",
    "\n",
    "- HP, SP.DEF, SP.ATK\n",
    "\n",
    "fusionStat = 2 * headStat / 3 + bodyStat/3\n",
    "\n",
    "\n",
    "#### name, Nature, and Moves\n",
    "You will be able to choose a name, nature, and set of moves based on what either Pokémon has at the time. The Move Reminder found on the top floor of Pokémon centers can teach moves from either original Pokémon.\n",
    "\n",
    "Nature can be changed in the far southwest of Cinnabar Island.\n",
    "\n",
    "#### Ability\n",
    "A fusion has access to any of the abilities of the Fused pokemon. When fusing, You are only able to choose between the two abilities that the Parent Pokemon had at the time of fusion. Ex: fusing Politoed with damp, and Glaceon with snow cloak will only show those two abilities, regardless of fusion order.\n",
    "\n",
    "#### EVs and IVs\n",
    "Fusion keeps the EVs of the body and discards the EVs of the head.\n",
    "\n",
    "If using DNA splicers, an average of both Pokémon's IVs is used. If using super splicers, the higher IV in each stat is used.\n",
    "\n",
    "#### Typing\n",
    "\n",
    "The fused Pokémon will have its head's primary type and its body's secondary type. If the body's Pokémon doesn't have a secondary type, its primary type will be used instead.\n",
    "\n",
    "If the head is already providing the element the body wants to provide, The body will provide its primary type instead. A Grimer/Oddish for example is Poison/Grass. Oddish normally provides Poison as a body, but Grimer already provides Poison; so to avoid redundancy, Oddish instead provides its primary type, Grass."
   ]
  },
  {
   "cell_type": "code",
   "execution_count": 1,
   "metadata": {},
   "outputs": [],
   "source": [
    "import numpy as np\n",
    "import pandas as pd\n",
    "\n",
    "pokedex = pd.read_csv(\"data/CompleteInfiniteFusionDex_v6.2.3.csv\")\n",
    "\n",
    "type_chart = pd.read_csv(\"data/typingchart.csv\")\n",
    "\n",
    "type_chart = type_chart.set_index(\"Attacking\")\n",
    "type_chart.columns = type_chart.columns.str.lower()\n",
    "type_chart.index = type_chart.index.str.lower()"
   ]
  },
  {
   "cell_type": "code",
   "execution_count": 2,
   "metadata": {},
   "outputs": [],
   "source": [
    "def pkm_query(pokemon:str,form:str=\"base\"):\n",
    "    return pokedex.loc[(pokedex.name == pokemon.lower())&(pokedex.form == form)]"
   ]
  },
  {
   "cell_type": "code",
   "execution_count": 3,
   "metadata": {},
   "outputs": [],
   "source": [
    "def weighted_avg(stat1,stat2):\n",
    "    return int((2*stat1+stat2)/3)"
   ]
  },
  {
   "cell_type": "code",
   "execution_count": 4,
   "metadata": {},
   "outputs": [],
   "source": [
    "def calc_fusion_stats(fusion_head, fusion_body):\n",
    "    fusion_stats = {}\n",
    "    # Pandas doc recommends using to_numpy() instead of values\n",
    "    fusion_stats[\"hp\"] = weighted_avg(fusion_head[\"hp\"].values[0],fusion_body[\"hp\"].values[0])\n",
    "    fusion_stats[\"atk\"] = weighted_avg(fusion_body[\"attack\"].values[0],fusion_head[\"attack\"].values[0])\n",
    "    fusion_stats[\"def\"] = weighted_avg(fusion_body[\"defense\"].values[0],fusion_head[\"defense\"].values[0])\n",
    "    fusion_stats[\"spatk\"] = weighted_avg(fusion_head[\"sp_attack\"].values[0],fusion_body[\"sp_attack\"].values[0])\n",
    "    fusion_stats[\"spdef\"] = weighted_avg(fusion_head[\"sp_defense\"].values[0],fusion_body[\"sp_defense\"].values[0])\n",
    "    fusion_stats[\"spe\"] = weighted_avg(fusion_body[\"speed\"].values[0],fusion_head[\"speed\"].values[0])\n",
    "    fusion_stats[\"total\"] = sum(fusion_stats.values())\n",
    "    return fusion_stats"
   ]
  },
  {
   "cell_type": "code",
   "execution_count": 5,
   "metadata": {},
   "outputs": [],
   "source": [
    "def calc_fusion_typing(fusion_head,fusion_body):\n",
    "    fusion_types = {}\n",
    "    fusion_types[\"type_1\"] = fusion_head[\"type_1\"].values[0]\n",
    "    if fusion_body[\"type_2\"].values[0] == fusion_head[\"type_1\"].values[0]:\n",
    "        fusion_types[\"type_2\"] = fusion_body[\"type_1\"].values[0]\n",
    "    else:\n",
    "        fusion_types[\"type_2\"] = fusion_body[\"type_2\"].values[0]\n",
    "    return fusion_types"
   ]
  },
  {
   "cell_type": "code",
   "execution_count": 6,
   "metadata": {},
   "outputs": [],
   "source": [
    "def calc_fusion_weakness(fusion_typing:dict):\n",
    "    if fusion_typing['type_1'] == fusion_typing['type_2']:\n",
    "        pkm_weak = type_chart[fusion_typing['type_1']]\n",
    "    else:\n",
    "        pkm_weak = type_chart[fusion_typing['type_1']]*type_chart[fusion_typing['type_2']]\n",
    "\n",
    "    fusion_weak = {}\n",
    "    for value in pkm_weak:\n",
    "        if value not in fusion_weak:\n",
    "            fusion_weak[str(value)] = pkm_weak[pkm_weak == value].index.tolist()\n",
    "\n",
    "    return fusion_weak"
   ]
  },
  {
   "cell_type": "code",
   "execution_count": 7,
   "metadata": {},
   "outputs": [],
   "source": [
    "from dataclasses import dataclass\n",
    "@dataclass\n",
    "class Fusion:\n",
    "    head:str\n",
    "    body:str\n",
    "    types:dict\n",
    "    stats:dict\n",
    "    \n",
    "    def __init__(self,head,body,forms):\n",
    "        self.head = pkm_query(head,forms[0])\n",
    "        self.body = pkm_query(body,forms[1])\n",
    "        \n",
    "        self.types = calc_fusion_typing(self.head,self.body)\n",
    "        self.stats = calc_fusion_stats(self.head,self.body)\n",
    "        \n",
    "    def print_weakness(self):\n",
    "        weak = calc_fusion_weakness(self.types)\n",
    "        keys = list(weak.keys())\n",
    "        keys.sort(reverse=True)\n",
    "        for key in keys:\n",
    "            print(f\"{key} ({len(weak[key])}):{weak[key]}\")\n",
    "    \n",
    "    def possible_abilities(self):\n",
    "        abilites = {}\n",
    "        abilites['regular'] = [self.head.ability_1.values[0], self.head.ability_2.values[0], self.body.ability_1.values[0], self.body.ability_2.values[0]]\n",
    "        abilites['hidden'] = [self.head.ability_hidden.values[0], self.body.ability_hidden.values[0]]\n",
    "        for key in abilites.keys():\n",
    "            abilites[key] = [x for x in abilites[key] if x != 'none']\n",
    "        return abilites"
   ]
  },
  {
   "cell_type": "code",
   "execution_count": 8,
   "metadata": {},
   "outputs": [],
   "source": [
    "def calc_fusion(pokemon1:str, pokemon2:str,forms:list):\n",
    "    return Fusion(pokemon1,pokemon2,forms)"
   ]
  },
  {
   "cell_type": "markdown",
   "metadata": {},
   "source": [
    "## Fusion Calculator"
   ]
  },
  {
   "cell_type": "code",
   "execution_count": 9,
   "metadata": {},
   "outputs": [],
   "source": [
    "def fusion_calculator(pokemon1:str,pokemon2:str,pkm1_form:str=\"base\",pkm2_form:str=\"base\"):\n",
    "    fusions = [calc_fusion(pokemon1, pokemon2,[pkm1_form,pkm2_form]),calc_fusion(pokemon2, pokemon1,[pkm2_form,pkm1_form])]\n",
    "    stats_diff = {}\n",
    "    for key in fusions[0].stats.keys():\n",
    "        stats_diff[key] = fusions[0].stats[key] - fusions[1].stats[key]\n",
    "        stats_diff[key] = str(stats_diff[key]) if stats_diff[key] < 0 else f\"+{str(stats_diff[key])}\"\n",
    "\n",
    "    stats_print = {}\n",
    "    for key in fusions[0].stats.keys():\n",
    "            stats_print[key] = [fusions[0].stats[key],stats_diff[key],fusions[1].stats[key]]\n",
    "    \n",
    "    print(\"Typing and Stats\")\n",
    "    print(f\"{'-'*20}\")\n",
    "    print(f\"Head: {fusions[0].head.name.values[0]} | Body: {fusions[0].body.name.values[0]} | Typing: {list(fusions[0].types.values())}\")\n",
    "    sio = ['hp','atk','def','spatk','spdef','spe','total'] #stats in order\n",
    "    aw = 7 #alignment width\n",
    "    print(f\"{sio[0]:^7}{sio[1]:^7}{sio[2]:^7}{sio[3]:^7}{sio[4]:^7}{sio[5]:^7}{sio[6]:^7}\") #^ central alignment, < left, > right\n",
    "    for i in range(3):\n",
    "        print(f\"{stats_print[sio[0]][i]:^7}{stats_print[sio[1]][i]:^7}{stats_print[sio[2]][i]:^7}{stats_print[sio[3]][i]:^7}{stats_print[sio[4]][i]:^7}{stats_print[sio[5]][i]:^7}{stats_print[sio[6]][i]:^7}\")\n",
    "    print(f\"Head: {fusions[1].head.name.values[0]} | Body: {fusions[1].body.name.values[0]} | Typing: {list(fusions[1].types.values())}\")\n",
    "    print(\"\")\n",
    "    print(f\"{'='*80}\\nWeakness\\n{'-'*20}\")\n",
    "    if set(fusions[1].types.values()) == set(fusions[0].types.values()):\n",
    "        print(\"Fusions share the same typing\")\n",
    "        fusions[1].print_weakness()\n",
    "    else:\n",
    "        for fusion in fusions:\n",
    "            print(f\"Head: {fusion.head.name.values[0]} | Body: {fusion.body.name.values[0]} | Typing: {list(fusion.types.values())}\")\n",
    "            fusion.print_weakness()\n",
    "            print(f\"{'-'*20}\")\n",
    "    print(\"\")\n",
    "    print(f\"{'='*80}\\nAbilities\\n{'-'*20}\")\n",
    "    fusion_abilities = fusions[0].possible_abilities()\n",
    "    for key in fusion_abilities.keys():\n",
    "        print(f\"{key}: {fusion_abilities[key]}\")\n",
    "    "
   ]
  },
  {
   "cell_type": "code",
   "execution_count": 10,
   "metadata": {},
   "outputs": [
    {
     "name": "stdout",
     "output_type": "stream",
     "text": [
      "Typing and Stats\n",
      "--------------------\n",
      "Head: infernape | Body: leafeon | Typing: ['fire', 'grass']\n",
      "  hp     atk    def   spatk  spdef   spe   total \n",
      "  72     108    110    89     69     99     547  \n",
      "  +4     +2     +20    +15    +2     -4     +39  \n",
      "  68     106    90     74     67     103    508  \n",
      "Head: leafeon | Body: infernape | Typing: ['grass', 'fighting']\n",
      "\n",
      "================================================================================\n",
      "Weakness\n",
      "--------------------\n",
      "Head: infernape | Body: leafeon | Typing: ['fire', 'grass']\n",
      "2.0 (3):['poison', 'flying', 'rock']\n",
      "1.0 (11):['normal', 'fire', 'water', 'ice', 'fighting', 'ground', 'psychic', 'bug', 'ghost', 'dragon', 'dark']\n",
      "0.5 (3):['electric', 'steel', 'fairy']\n",
      "0.25 (1):['grass']\n",
      "--------------------\n",
      "Head: leafeon | Body: infernape | Typing: ['grass', 'fighting']\n",
      "4.0 (1):['flying']\n",
      "2.0 (5):['fire', 'ice', 'poison', 'psychic', 'fairy']\n",
      "1.0 (6):['normal', 'fighting', 'bug', 'ghost', 'dragon', 'steel']\n",
      "0.5 (6):['water', 'electric', 'grass', 'ground', 'rock', 'dark']\n",
      "--------------------\n",
      "\n",
      "================================================================================\n",
      "Abilities\n",
      "--------------------\n",
      "regular: ['blaze', nan, 'leaf guard', nan]\n",
      "hidden: ['iron fist', 'chlorophyll']\n"
     ]
    }
   ],
   "source": [
    "fusion_calculator(\"infernape\",\"leafeon\")"
   ]
  },
  {
   "cell_type": "code",
   "execution_count": 11,
   "metadata": {},
   "outputs": [
    {
     "name": "stdout",
     "output_type": "stream",
     "text": [
      "Typing and Stats\n",
      "--------------------\n",
      "Head: venusaur | Body: typhlosion | Typing: ['grass', 'fire']\n",
      "  hp     atk    def   spatk  spdef   spe   total \n",
      "  79     83     79     103    95     93     532  \n",
      "  +1     +1     -2     -3     +5     +7     +9   \n",
      "  78     82     81     106    90     86     523  \n",
      "Head: typhlosion | Body: venusaur | Typing: ['fire', 'poison']\n",
      "\n",
      "================================================================================\n",
      "Weakness\n",
      "--------------------\n",
      "Head: venusaur | Body: typhlosion | Typing: ['grass', 'fire']\n",
      "2.0 (3):['poison', 'flying', 'rock']\n",
      "1.0 (11):['normal', 'fire', 'water', 'ice', 'fighting', 'ground', 'psychic', 'bug', 'ghost', 'dragon', 'dark']\n",
      "0.5 (3):['electric', 'steel', 'fairy']\n",
      "0.25 (1):['grass']\n",
      "--------------------\n",
      "Head: typhlosion | Body: venusaur | Typing: ['fire', 'poison']\n",
      "4.0 (1):['ground']\n",
      "2.0 (3):['water', 'psychic', 'rock']\n",
      "1.0 (6):['normal', 'electric', 'flying', 'ghost', 'dragon', 'dark']\n",
      "0.5 (5):['fire', 'ice', 'fighting', 'poison', 'steel']\n",
      "0.25 (3):['grass', 'bug', 'fairy']\n",
      "--------------------\n",
      "\n",
      "================================================================================\n",
      "Abilities\n",
      "--------------------\n",
      "regular: ['overgrow', nan, 'blaze', nan]\n",
      "hidden: ['chlorophyll', 'flash fire']\n"
     ]
    }
   ],
   "source": [
    "fusion_calculator(\"venusaur\",\"typhlosion\")"
   ]
  },
  {
   "cell_type": "code",
   "execution_count": 12,
   "metadata": {},
   "outputs": [
    {
     "name": "stdout",
     "output_type": "stream",
     "text": [
      "Typing and Stats\n",
      "--------------------\n",
      "Head: mimikyu | Body: tauros | Typing: ['ghost', 'normal']\n",
      "  hp     atk    def   spatk  spdef   spe   total \n",
      "  61     96     90     46     93     105    491  \n",
      "  -7     +3     +5     +3     +12    +5     +21  \n",
      "  68     93     85     43     81     100    470  \n",
      "Head: tauros | Body: mimikyu | Typing: ['normal', 'fairy']\n",
      "\n",
      "================================================================================\n",
      "Weakness\n",
      "--------------------\n",
      "Head: mimikyu | Body: tauros | Typing: ['ghost', 'normal']\n",
      "2.0 (1):['dark']\n",
      "1.0 (12):['fire', 'water', 'electric', 'grass', 'ice', 'ground', 'flying', 'psychic', 'rock', 'dragon', 'steel', 'fairy']\n",
      "0.5 (2):['poison', 'bug']\n",
      "0.0 (3):['normal', 'fighting', 'ghost']\n",
      "--------------------\n",
      "Head: tauros | Body: mimikyu | Typing: ['normal', 'fairy']\n",
      "2.0 (2):['poison', 'steel']\n",
      "1.0 (12):['normal', 'fire', 'water', 'electric', 'grass', 'ice', 'fighting', 'ground', 'flying', 'psychic', 'rock', 'fairy']\n",
      "0.5 (2):['bug', 'dark']\n",
      "0.0 (2):['ghost', 'dragon']\n",
      "--------------------\n",
      "\n",
      "================================================================================\n",
      "Abilities\n",
      "--------------------\n",
      "regular: ['disguise', nan, 'intimidate', 'anger point']\n",
      "hidden: [nan, 'sheer force']\n"
     ]
    }
   ],
   "source": [
    "fusion_calculator(\"mimikyu\",\"tauros\")"
   ]
  },
  {
   "cell_type": "code",
   "execution_count": 13,
   "metadata": {},
   "outputs": [
    {
     "name": "stdout",
     "output_type": "stream",
     "text": [
      "Typing and Stats\n",
      "--------------------\n",
      "Head: azumarill | Body: mamoswine | Typing: ['water', 'ground']\n",
      "  hp     atk    def   spatk  spdef   spe   total \n",
      "  103    103    80     63     73     70     492  \n",
      "  -3     +27    +0     -3     +7     +10    +38  \n",
      "  106    76     80     66     66     60     454  \n",
      "Head: mamoswine | Body: azumarill | Typing: ['ice', 'fairy']\n",
      "\n",
      "================================================================================\n",
      "Weakness\n",
      "--------------------\n",
      "Head: azumarill | Body: mamoswine | Typing: ['water', 'ground']\n",
      "4.0 (1):['grass']\n",
      "1.0 (12):['normal', 'water', 'ice', 'fighting', 'ground', 'flying', 'psychic', 'bug', 'ghost', 'dragon', 'dark', 'fairy']\n",
      "0.5 (4):['fire', 'poison', 'rock', 'steel']\n",
      "0.0 (1):['electric']\n",
      "--------------------\n",
      "Head: mamoswine | Body: azumarill | Typing: ['ice', 'fairy']\n",
      "4.0 (1):['steel']\n",
      "2.0 (3):['fire', 'poison', 'rock']\n",
      "1.0 (10):['normal', 'water', 'electric', 'grass', 'fighting', 'ground', 'flying', 'psychic', 'ghost', 'fairy']\n",
      "0.5 (3):['ice', 'bug', 'dark']\n",
      "0.0 (1):['dragon']\n",
      "--------------------\n",
      "\n",
      "================================================================================\n",
      "Abilities\n",
      "--------------------\n",
      "regular: ['thick fat', 'huge power', 'oblivious', 'snow cloak']\n",
      "hidden: ['sap sipper', 'thick fat']\n"
     ]
    }
   ],
   "source": [
    "fusion_calculator(\"azumarill\",\"mamoswine\")"
   ]
  },
  {
   "cell_type": "code",
   "execution_count": 14,
   "metadata": {},
   "outputs": [
    {
     "name": "stdout",
     "output_type": "stream",
     "text": [
      "Typing and Stats\n",
      "--------------------\n",
      "Head: hydreigon | Body: volcarona | Typing: ['dark', 'fire']\n",
      "  hp     atk    def   spatk  spdef   spe   total \n",
      "  89     75     73     128    95     99     559  \n",
      "  +2     -15    -8     -3     -5     +1     -28  \n",
      "  87     90     81     131    100    98     587  \n",
      "Head: volcarona | Body: hydreigon | Typing: ['bug', 'dragon']\n",
      "\n",
      "================================================================================\n",
      "Weakness\n",
      "--------------------\n",
      "Head: hydreigon | Body: volcarona | Typing: ['dark', 'fire']\n",
      "2.0 (4):['water', 'fighting', 'ground', 'rock']\n",
      "1.0 (7):['normal', 'electric', 'poison', 'flying', 'bug', 'dragon', 'fairy']\n",
      "0.5 (6):['fire', 'grass', 'ice', 'ghost', 'dark', 'steel']\n",
      "0.0 (1):['psychic']\n",
      "--------------------\n",
      "Head: volcarona | Body: hydreigon | Typing: ['bug', 'dragon']\n",
      "2.0 (5):['ice', 'flying', 'rock', 'dragon', 'fairy']\n",
      "1.0 (8):['normal', 'fire', 'poison', 'psychic', 'bug', 'ghost', 'dark', 'steel']\n",
      "0.5 (4):['water', 'electric', 'fighting', 'ground']\n",
      "0.25 (1):['grass']\n",
      "--------------------\n",
      "\n",
      "================================================================================\n",
      "Abilities\n",
      "--------------------\n",
      "regular: ['levitate', nan, 'flame body', nan]\n",
      "hidden: [nan, 'swarm']\n"
     ]
    }
   ],
   "source": [
    "fusion_calculator(\"hydreigon\",\"volcarona\")"
   ]
  },
  {
   "cell_type": "code",
   "execution_count": 15,
   "metadata": {},
   "outputs": [
    {
     "name": "stdout",
     "output_type": "stream",
     "text": [
      "Typing and Stats\n",
      "--------------------\n",
      "Head: lucario | Body: weavile | Typing: ['fighting', 'ice']\n",
      "  hp     atk    def   spatk  spdef   spe   total \n",
      "  70     116    66     91     75     113    531  \n",
      "  +0     +3     -2     +23    -5     +12    +31  \n",
      "  70     113    68     68     80     101    500  \n",
      "Head: weavile | Body: lucario | Typing: ['dark', 'steel']\n",
      "\n",
      "================================================================================\n",
      "Weakness\n",
      "--------------------\n",
      "Head: lucario | Body: weavile | Typing: ['fighting', 'ice']\n",
      "2.0 (6):['fire', 'fighting', 'flying', 'psychic', 'steel', 'fairy']\n",
      "1.0 (9):['normal', 'water', 'electric', 'grass', 'poison', 'ground', 'rock', 'ghost', 'dragon']\n",
      "0.5 (3):['ice', 'bug', 'dark']\n",
      "--------------------\n",
      "Head: weavile | Body: lucario | Typing: ['dark', 'steel']\n",
      "4.0 (1):['fighting']\n",
      "2.0 (2):['fire', 'ground']\n",
      "1.0 (4):['water', 'electric', 'bug', 'fairy']\n",
      "0.5 (9):['normal', 'grass', 'ice', 'flying', 'rock', 'ghost', 'dragon', 'dark', 'steel']\n",
      "0.0 (2):['poison', 'psychic']\n",
      "--------------------\n",
      "\n",
      "================================================================================\n",
      "Abilities\n",
      "--------------------\n",
      "regular: ['steadfast', 'inner focus', 'pressure', nan]\n",
      "hidden: ['justified', 'pickpocket']\n"
     ]
    }
   ],
   "source": [
    "fusion_calculator(\"lucario\",\"weavile\")"
   ]
  },
  {
   "cell_type": "code",
   "execution_count": 16,
   "metadata": {},
   "outputs": [
    {
     "name": "stdout",
     "output_type": "stream",
     "text": [
      "Typing and Stats\n",
      "--------------------\n",
      "Head: jynx | Body: garchomp | Typing: ['ice', 'ground']\n",
      "  hp     atk    def   spatk  spdef   spe   total \n",
      "  79     103    75     103    91     99     550  \n",
      "  -14    +27    +20    +12    +3     +2     +50  \n",
      "  93     76     55     91     88     97     500  \n",
      "Head: garchomp | Body: jynx | Typing: ['dragon', 'psychic']\n",
      "\n",
      "================================================================================\n",
      "Weakness\n",
      "--------------------\n",
      "Head: jynx | Body: garchomp | Typing: ['ice', 'ground']\n",
      "2.0 (5):['fire', 'water', 'grass', 'fighting', 'steel']\n",
      "1.0 (11):['normal', 'ice', 'ground', 'flying', 'psychic', 'bug', 'rock', 'ghost', 'dragon', 'dark', 'fairy']\n",
      "0.5 (1):['poison']\n",
      "0.0 (1):['electric']\n",
      "--------------------\n",
      "Head: garchomp | Body: jynx | Typing: ['dragon', 'psychic']\n",
      "2.0 (6):['ice', 'bug', 'ghost', 'dragon', 'dark', 'fairy']\n",
      "1.0 (6):['normal', 'poison', 'ground', 'flying', 'rock', 'steel']\n",
      "0.5 (6):['fire', 'water', 'electric', 'grass', 'fighting', 'psychic']\n",
      "--------------------\n",
      "\n",
      "================================================================================\n",
      "Abilities\n",
      "--------------------\n",
      "regular: ['oblivious', 'forewarn', 'sand veil', nan]\n",
      "hidden: ['dry skin', 'rough skin']\n"
     ]
    }
   ],
   "source": [
    "fusion_calculator(\"jynx\",\"garchomp\")"
   ]
  },
  {
   "cell_type": "code",
   "execution_count": 17,
   "metadata": {},
   "outputs": [
    {
     "name": "stdout",
     "output_type": "stream",
     "text": [
      "Typing and Stats\n",
      "--------------------\n",
      "Head: infernape | Body: mimikyu | Typing: ['fire', 'fairy']\n",
      "  hp     atk    def   spatk  spdef   spe   total \n",
      "  69     94     77     86     82     100    508  \n",
      "  +7     -5     +3     +18    -11    -4     +8   \n",
      "  62     99     74     68     93     104    500  \n",
      "Head: mimikyu | Body: infernape | Typing: ['ghost', 'fighting']\n",
      "\n",
      "================================================================================\n",
      "Weakness\n",
      "--------------------\n",
      "Head: infernape | Body: mimikyu | Typing: ['fire', 'fairy']\n",
      "2.0 (4):['water', 'poison', 'ground', 'rock']\n",
      "1.0 (6):['normal', 'electric', 'flying', 'psychic', 'ghost', 'steel']\n",
      "0.5 (6):['fire', 'grass', 'ice', 'fighting', 'dark', 'fairy']\n",
      "0.25 (1):['bug']\n",
      "0.0 (1):['dragon']\n",
      "--------------------\n",
      "Head: mimikyu | Body: infernape | Typing: ['ghost', 'fighting']\n",
      "2.0 (4):['flying', 'psychic', 'ghost', 'fairy']\n",
      "1.0 (9):['fire', 'water', 'electric', 'grass', 'ice', 'ground', 'dragon', 'dark', 'steel']\n",
      "0.5 (2):['poison', 'rock']\n",
      "0.25 (1):['bug']\n",
      "0.0 (2):['normal', 'fighting']\n",
      "--------------------\n",
      "\n",
      "================================================================================\n",
      "Abilities\n",
      "--------------------\n",
      "regular: ['blaze', nan, 'disguise', nan]\n",
      "hidden: ['iron fist', nan]\n"
     ]
    }
   ],
   "source": [
    "fusion_calculator(\"infernape\",\"mimikyu\")"
   ]
  },
  {
   "cell_type": "code",
   "execution_count": 18,
   "metadata": {},
   "outputs": [
    {
     "name": "stdout",
     "output_type": "stream",
     "text": [
      "Typing and Stats\n",
      "--------------------\n",
      "Head: lycanroc | Body: mimikyu | Typing: ['rock', 'fairy']\n",
      "  hp     atk    def   spatk  spdef   spe   total \n",
      "  68     98     75     53     78     101    473  \n",
      "  +7     -8     +5     +2     -13    -5     -12  \n",
      "  61     106    70     51     91     106    485  \n",
      "Head: mimikyu | Body: lycanroc | Typing: ['ghost', 'rock']\n",
      "\n",
      "================================================================================\n",
      "Weakness\n",
      "--------------------\n",
      "Head: lycanroc | Body: mimikyu | Typing: ['rock', 'fairy']\n",
      "4.0 (1):['steel']\n",
      "2.0 (3):['water', 'grass', 'ground']\n",
      "1.0 (8):['electric', 'ice', 'fighting', 'poison', 'psychic', 'rock', 'ghost', 'fairy']\n",
      "0.5 (5):['normal', 'fire', 'flying', 'bug', 'dark']\n",
      "0.0 (1):['dragon']\n",
      "--------------------\n",
      "Head: mimikyu | Body: lycanroc | Typing: ['ghost', 'rock']\n",
      "2.0 (6):['water', 'grass', 'ground', 'ghost', 'dark', 'steel']\n",
      "1.0 (6):['electric', 'ice', 'psychic', 'rock', 'dragon', 'fairy']\n",
      "0.5 (3):['fire', 'flying', 'bug']\n",
      "0.25 (1):['poison']\n",
      "0.0 (2):['normal', 'fighting']\n",
      "--------------------\n",
      "\n",
      "================================================================================\n",
      "Abilities\n",
      "--------------------\n",
      "regular: ['keen eye', 'sand rush', 'disguise', nan]\n",
      "hidden: ['steadfast', nan]\n"
     ]
    }
   ],
   "source": [
    "fusion_calculator(\"lycanroc\",\"mimikyu\",'midday form')"
   ]
  }
 ],
 "metadata": {
  "kernelspec": {
   "display_name": "Python 3",
   "language": "python",
   "name": "python3"
  },
  "language_info": {
   "codemirror_mode": {
    "name": "ipython",
    "version": 3
   },
   "file_extension": ".py",
   "mimetype": "text/x-python",
   "name": "python",
   "nbconvert_exporter": "python",
   "pygments_lexer": "ipython3",
   "version": "3.11.9"
  }
 },
 "nbformat": 4,
 "nbformat_minor": 2
}
